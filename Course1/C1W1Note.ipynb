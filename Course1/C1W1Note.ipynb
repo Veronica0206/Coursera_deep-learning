{
 "cells": [
  {
   "cell_type": "markdown",
   "metadata": {},
   "source": [
    "## What is a neural network?"
   ]
  },
  {
   "cell_type": "markdown",
   "metadata": {},
   "source": [
    "- Single neuron, e.g. ReLu (rectified linear unit)\n",
    "<img src=\"screenshot/1.PNG\" style=\"width:600px;height:350px;\">\n",
    "\n",
    "The figure shows the simplest possible neural networks is to define $f(x)$ as a single \"neuron\" in the network where $f(x)=\\max(ax+b, 0)$, for some coefficients $a$, $b$. What $f(x)$ does is return a single value: $(ax+b)$ or zero, which even is greater. \n",
    "\n",
    "- A more complex neural network (\"stack\" the single neuron output as input into the next neuron)\n",
    "<img src=\"screenshot/2.PNG\" style=\"width:600px;height:350px;\">\n",
    "\n",
    "Here, the input to a neural network is a set of input features (**input layers**) $x_{1}$ (size), $x_{2}$ (\\# bedrooms), $x_{3}$ (zip code), $x_{4}$ (wealth). We connect these four features to three neurons (**hidden layers**). These three \"internal\" neurons are called *hidden units*. The goal for the neural network is to automatically determine three relevant features such that three features predict the price of a house (**output layers**). \n",
    "\n",
    "**The only thing we must provide to the neural network is a sufficient number of training examples $(x^{(i)},y^{(i)})$, and the neural networks performed as a black box.**\n",
    "\n",
    "- Activation fuction (which is in general non-linear function)\n",
    "    - Logistic/sigmoid function: $g(z)=\\frac{1}{1+e^{-z}}$\n",
    "    - ReLU: $g(z)=\\max(z,0)$\n",
    "    - tanh: $g(z)=\\frac{e^{z}-e^{-z}}{e^{z}+e^{-z}}$"
   ]
  },
  {
   "cell_type": "markdown",
   "metadata": {},
   "source": [
    "## Supervised learning with neural network"
   ]
  },
  {
   "cell_type": "markdown",
   "metadata": {},
   "source": [
    "- Different types of neural networks for supervised learning which includes:\n",
    "    - Convolutional neural networks (CNN) (useful in computer vision)\n",
    "    - Recurrent neural networks (RNN) (useful in speech recognition of NLP)\n",
    "    - Standard NN (useful for structured data)\n",
    "    - Hybrid/custom NN or a collection of NNs types\n",
    "- Structured data is like the databases and tables\n",
    "- Unstructured data is like images, video, audio, and text\n",
    "- Structured data gives more money because companies rely on predictions on its big data "
   ]
  },
  {
   "cell_type": "markdown",
   "metadata": {},
   "source": [
    "## Why is deep learning taking off?"
   ]
  },
  {
   "cell_type": "markdown",
   "metadata": {},
   "source": [
    "- Data\n",
    "<img src=\"screenshot/3.PNG\" style=\"width:600px;height:350px;\">\n",
    "\n",
    "- Computation: GPUs, powerful CPUs, distributed computing, ASICs\n",
    "- Algorithm"
   ]
  },
  {
   "cell_type": "code",
   "execution_count": null,
   "metadata": {},
   "outputs": [],
   "source": []
  }
 ],
 "metadata": {
  "kernelspec": {
   "display_name": "Python 3",
   "language": "python",
   "name": "python3"
  },
  "language_info": {
   "codemirror_mode": {
    "name": "ipython",
    "version": 3
   },
   "file_extension": ".py",
   "mimetype": "text/x-python",
   "name": "python",
   "nbconvert_exporter": "python",
   "pygments_lexer": "ipython3",
   "version": "3.7.4"
  }
 },
 "nbformat": 4,
 "nbformat_minor": 2
}
